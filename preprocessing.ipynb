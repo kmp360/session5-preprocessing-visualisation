{
 "cells": [
  {
   "cell_type": "code",
   "execution_count": 4,
   "metadata": {},
   "outputs": [],
   "source": [
    "import pandas as pd\n",
    "import numpy as np"
   ]
  },
  {
   "cell_type": "code",
   "execution_count": null,
   "metadata": {},
   "outputs": [],
   "source": [
    "pd.concat"
   ]
  },
  {
   "cell_type": "code",
   "execution_count": 12,
   "metadata": {},
   "outputs": [
    {
     "data": {
      "text/html": [
       "<div>\n",
       "<style scoped>\n",
       "    .dataframe tbody tr th:only-of-type {\n",
       "        vertical-align: middle;\n",
       "    }\n",
       "\n",
       "    .dataframe tbody tr th {\n",
       "        vertical-align: top;\n",
       "    }\n",
       "\n",
       "    .dataframe thead th {\n",
       "        text-align: right;\n",
       "    }\n",
       "</style>\n",
       "<table border=\"1\" class=\"dataframe\">\n",
       "  <thead>\n",
       "    <tr style=\"text-align: right;\">\n",
       "      <th></th>\n",
       "      <th>Unnamed: 0</th>\n",
       "      <th>id</th>\n",
       "      <th>condition</th>\n",
       "      <th>RT</th>\n",
       "    </tr>\n",
       "  </thead>\n",
       "  <tbody>\n",
       "    <tr>\n",
       "      <th>0</th>\n",
       "      <td>0</td>\n",
       "      <td>30917</td>\n",
       "      <td>baseline</td>\n",
       "      <td>251.446466</td>\n",
       "    </tr>\n",
       "    <tr>\n",
       "      <th>1</th>\n",
       "      <td>1</td>\n",
       "      <td>30917</td>\n",
       "      <td>condition_b</td>\n",
       "      <td>218.117894</td>\n",
       "    </tr>\n",
       "    <tr>\n",
       "      <th>2</th>\n",
       "      <td>2</td>\n",
       "      <td>30917</td>\n",
       "      <td>condition_a</td>\n",
       "      <td>483.430683</td>\n",
       "    </tr>\n",
       "    <tr>\n",
       "      <th>3</th>\n",
       "      <td>3</td>\n",
       "      <td>30917</td>\n",
       "      <td>baseline</td>\n",
       "      <td>224.964481</td>\n",
       "    </tr>\n",
       "    <tr>\n",
       "      <th>4</th>\n",
       "      <td>4</td>\n",
       "      <td>30917</td>\n",
       "      <td>condition_b</td>\n",
       "      <td>178.696516</td>\n",
       "    </tr>\n",
       "    <tr>\n",
       "      <th>...</th>\n",
       "      <td>...</td>\n",
       "      <td>...</td>\n",
       "      <td>...</td>\n",
       "      <td>...</td>\n",
       "    </tr>\n",
       "    <tr>\n",
       "      <th>115</th>\n",
       "      <td>115</td>\n",
       "      <td>29185</td>\n",
       "      <td>condition_b</td>\n",
       "      <td>331.582984</td>\n",
       "    </tr>\n",
       "    <tr>\n",
       "      <th>116</th>\n",
       "      <td>116</td>\n",
       "      <td>29185</td>\n",
       "      <td>condition_a</td>\n",
       "      <td>323.626076</td>\n",
       "    </tr>\n",
       "    <tr>\n",
       "      <th>117</th>\n",
       "      <td>117</td>\n",
       "      <td>29185</td>\n",
       "      <td>condition_a</td>\n",
       "      <td>958.439887</td>\n",
       "    </tr>\n",
       "    <tr>\n",
       "      <th>118</th>\n",
       "      <td>118</td>\n",
       "      <td>29185</td>\n",
       "      <td>condition_a</td>\n",
       "      <td>684.929235</td>\n",
       "    </tr>\n",
       "    <tr>\n",
       "      <th>119</th>\n",
       "      <td>119</td>\n",
       "      <td>29185</td>\n",
       "      <td>baseline</td>\n",
       "      <td>420.869665</td>\n",
       "    </tr>\n",
       "  </tbody>\n",
       "</table>\n",
       "<p>1200 rows × 4 columns</p>\n",
       "</div>"
      ],
      "text/plain": [
       "     Unnamed: 0     id    condition          RT\n",
       "0             0  30917     baseline  251.446466\n",
       "1             1  30917  condition_b  218.117894\n",
       "2             2  30917  condition_a  483.430683\n",
       "3             3  30917     baseline  224.964481\n",
       "4             4  30917  condition_b  178.696516\n",
       "..          ...    ...          ...         ...\n",
       "115         115  29185  condition_b  331.582984\n",
       "116         116  29185  condition_a  323.626076\n",
       "117         117  29185  condition_a  958.439887\n",
       "118         118  29185  condition_a  684.929235\n",
       "119         119  29185     baseline  420.869665\n",
       "\n",
       "[1200 rows x 4 columns]"
      ]
     },
     "execution_count": 12,
     "metadata": {},
     "output_type": "execute_result"
    }
   ],
   "source": [
    "participants = pd.read_csv('participants.csv')\n",
    "\n",
    "trials = pd.DataFrame()\n",
    "for participant_id in participants['id']:\n",
    "    participant_data = pd.read_csv(f'participants/{participant_id}.csv')\n",
    "    #trials = trials.append(participant_data)\n",
    "    trials = pd.concat([trials, participant_data])\n",
    "\n",
    "trials"
   ]
  },
  {
   "cell_type": "code",
   "execution_count": 6,
   "metadata": {},
   "outputs": [],
   "source": [
    "trials.rename(columns={'Unnamed: 0': 'trial_order'}, inplace=True)\n",
    "trials.to_csv('trials.csv', index=False)"
   ]
  }
 ],
 "metadata": {
  "interpreter": {
   "hash": "78062bdde48a7104f4d3ea9a7117bceb40f968c4f67e55b98361572a14e9d17b"
  },
  "kernelspec": {
   "display_name": "Python 3.9.1 64-bit",
   "language": "python",
   "name": "python3"
  },
  "language_info": {
   "codemirror_mode": {
    "name": "ipython",
    "version": 3
   },
   "file_extension": ".py",
   "mimetype": "text/x-python",
   "name": "python",
   "nbconvert_exporter": "python",
   "pygments_lexer": "ipython3",
   "version": "3.9.1"
  },
  "orig_nbformat": 4
 },
 "nbformat": 4,
 "nbformat_minor": 2
}
